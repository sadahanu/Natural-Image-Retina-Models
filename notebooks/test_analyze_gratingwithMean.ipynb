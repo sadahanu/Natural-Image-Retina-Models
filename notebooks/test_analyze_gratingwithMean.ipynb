{
 "cells": [
  {
   "cell_type": "code",
   "execution_count": 1,
   "metadata": {
    "collapsed": true
   },
   "outputs": [],
   "source": [
    "%matplotlib inline\n",
    "import pandas as pd\n",
    "import numpy as np\n",
    "import os\n",
    "os.chdir = '/Users/zhouyu/Google Drive/python4work/'"
   ]
  },
  {
   "cell_type": "code",
   "execution_count": 2,
   "metadata": {
    "collapsed": true
   },
   "outputs": [],
   "source": [
    "dataset = pd.read_csv(\"pre_GratingwithMean01-Feb-2017.csv\")"
   ]
  },
  {
   "cell_type": "code",
   "execution_count": 3,
   "metadata": {
    "collapsed": false
   },
   "outputs": [
    {
     "data": {
      "text/html": [
       "<div>\n",
       "<table border=\"1\" class=\"dataframe\">\n",
       "  <thead>\n",
       "    <tr style=\"text-align: right;\">\n",
       "      <th></th>\n",
       "      <th>id</th>\n",
       "      <th>currentBarWidth</th>\n",
       "      <th>splitOnRecType</th>\n",
       "      <th>stimulusTag</th>\n",
       "      <th>currentMeanLevel</th>\n",
       "      <th>currentAbsContrast</th>\n",
       "      <th>splitOnExperimentDate</th>\n",
       "      <th>celllabel</th>\n",
       "      <th>splitOnDelTag</th>\n",
       "      <th>backgroundIntensity</th>\n",
       "      <th>MeanRespOn</th>\n",
       "      <th>SEM</th>\n",
       "      <th>nodeid</th>\n",
       "      <th>leafid</th>\n",
       "    </tr>\n",
       "  </thead>\n",
       "  <tbody>\n",
       "    <tr>\n",
       "      <th>0</th>\n",
       "      <td>1</td>\n",
       "      <td>-100.0</td>\n",
       "      <td>cell-attach</td>\n",
       "      <td>grating</td>\n",
       "      <td>0.2</td>\n",
       "      <td>0.1</td>\n",
       "      <td>2016/10/25</td>\n",
       "      <td>Cell2</td>\n",
       "      <td>keep</td>\n",
       "      <td>0.2</td>\n",
       "      <td>14.992504</td>\n",
       "      <td>0.000000</td>\n",
       "      <td>1</td>\n",
       "      <td>1</td>\n",
       "    </tr>\n",
       "    <tr>\n",
       "      <th>1</th>\n",
       "      <td>2</td>\n",
       "      <td>-100.0</td>\n",
       "      <td>exc</td>\n",
       "      <td>grating</td>\n",
       "      <td>0.2</td>\n",
       "      <td>0.1</td>\n",
       "      <td>2016/10/25</td>\n",
       "      <td>Cell2</td>\n",
       "      <td>keep</td>\n",
       "      <td>0.2</td>\n",
       "      <td>-22.957036</td>\n",
       "      <td>8.043584</td>\n",
       "      <td>1</td>\n",
       "      <td>2</td>\n",
       "    </tr>\n",
       "    <tr>\n",
       "      <th>2</th>\n",
       "      <td>3</td>\n",
       "      <td>-100.0</td>\n",
       "      <td>cell-attach</td>\n",
       "      <td>intensity</td>\n",
       "      <td>0.2</td>\n",
       "      <td>0.1</td>\n",
       "      <td>2016/10/25</td>\n",
       "      <td>Cell2</td>\n",
       "      <td>keep</td>\n",
       "      <td>0.2</td>\n",
       "      <td>0.000000</td>\n",
       "      <td>0.000000</td>\n",
       "      <td>1</td>\n",
       "      <td>3</td>\n",
       "    </tr>\n",
       "    <tr>\n",
       "      <th>3</th>\n",
       "      <td>4</td>\n",
       "      <td>-100.0</td>\n",
       "      <td>exc</td>\n",
       "      <td>intensity</td>\n",
       "      <td>0.2</td>\n",
       "      <td>0.1</td>\n",
       "      <td>2016/10/25</td>\n",
       "      <td>Cell2</td>\n",
       "      <td>keep</td>\n",
       "      <td>0.2</td>\n",
       "      <td>6.852033</td>\n",
       "      <td>2.634954</td>\n",
       "      <td>1</td>\n",
       "      <td>4</td>\n",
       "    </tr>\n",
       "    <tr>\n",
       "      <th>4</th>\n",
       "      <td>5</td>\n",
       "      <td>-100.0</td>\n",
       "      <td>cell-attach</td>\n",
       "      <td>grating</td>\n",
       "      <td>0.4</td>\n",
       "      <td>0.1</td>\n",
       "      <td>2016/10/25</td>\n",
       "      <td>Cell2</td>\n",
       "      <td>keep</td>\n",
       "      <td>0.2</td>\n",
       "      <td>69.965017</td>\n",
       "      <td>0.000000</td>\n",
       "      <td>1</td>\n",
       "      <td>5</td>\n",
       "    </tr>\n",
       "  </tbody>\n",
       "</table>\n",
       "</div>"
      ],
      "text/plain": [
       "   id  currentBarWidth splitOnRecType stimulusTag  currentMeanLevel  \\\n",
       "0   1           -100.0    cell-attach     grating               0.2   \n",
       "1   2           -100.0            exc     grating               0.2   \n",
       "2   3           -100.0    cell-attach   intensity               0.2   \n",
       "3   4           -100.0            exc   intensity               0.2   \n",
       "4   5           -100.0    cell-attach     grating               0.4   \n",
       "\n",
       "   currentAbsContrast splitOnExperimentDate celllabel splitOnDelTag  \\\n",
       "0                 0.1            2016/10/25     Cell2          keep   \n",
       "1                 0.1            2016/10/25     Cell2          keep   \n",
       "2                 0.1            2016/10/25     Cell2          keep   \n",
       "3                 0.1            2016/10/25     Cell2          keep   \n",
       "4                 0.1            2016/10/25     Cell2          keep   \n",
       "\n",
       "   backgroundIntensity  MeanRespOn       SEM  nodeid  leafid  \n",
       "0                  0.2   14.992504  0.000000       1       1  \n",
       "1                  0.2  -22.957036  8.043584       1       2  \n",
       "2                  0.2    0.000000  0.000000       1       3  \n",
       "3                  0.2    6.852033  2.634954       1       4  \n",
       "4                  0.2   69.965017  0.000000       1       5  "
      ]
     },
     "execution_count": 3,
     "metadata": {},
     "output_type": "execute_result"
    }
   ],
   "source": [
    "dataset.head(5)"
   ]
  },
  {
   "cell_type": "code",
   "execution_count": 4,
   "metadata": {
    "collapsed": false
   },
   "outputs": [],
   "source": [
    "import math\n",
    "dataset['currentBarWidth'] = abs(dataset['currentBarWidth'])\n",
    "dataset['cell_id'] = dataset['splitOnExperimentDate']+dataset['celllabel']"
   ]
  },
  {
   "cell_type": "code",
   "execution_count": 5,
   "metadata": {
    "collapsed": true
   },
   "outputs": [],
   "source": [
    "dataset = dataset.drop(['splitOnExperimentDate','celllabel'],axis = 1)"
   ]
  },
  {
   "cell_type": "code",
   "execution_count": 9,
   "metadata": {
    "collapsed": false
   },
   "outputs": [
    {
     "data": {
      "text/plain": [
       "absContrast  MeanInt  BarWidth    RecType      stimulusTag\n",
       "0.10         0.20     20.000000   cell-attach  grating         -2.500000\n",
       "                                               intensity        0.000000\n",
       "                                  exc          grating         -0.650936\n",
       "                                               intensity       -1.959447\n",
       "                      60.000000   cell-attach  grating         12.493753\n",
       "                                               intensity        2.498751\n",
       "                                  exc          grating        -13.106269\n",
       "                                               intensity        9.029849\n",
       "                      100.000000  cell-attach  grating         17.491254\n",
       "                                               intensity        0.000000\n",
       "                                  exc          grating        -25.620216\n",
       "                                               intensity        8.007992\n",
       "             0.25     20.000000   cell-attach  grating         -1.148263\n",
       "                                               intensity        2.211457\n",
       "                                  exc          grating        -32.719349\n",
       "                                               intensity      -34.429569\n",
       "                                  inh          grating        -17.474953\n",
       "                                               intensity      -15.666144\n",
       "                      46.666667   cell-attach  grating          1.811176\n",
       "                                               intensity        2.119363\n",
       "                                  exc          grating        -41.056421\n",
       "                                               intensity      -55.421725\n",
       "                                  inh          grating         -3.274967\n",
       "                                               intensity      -68.391843\n",
       "                      73.333333   cell-attach  grating          0.360024\n",
       "                                               intensity        0.147998\n",
       "                                  exc          grating        -39.360353\n",
       "                                               intensity      -27.448748\n",
       "                                  inh          grating        -40.616447\n",
       "                                               intensity      -17.702367\n",
       "                                                                 ...    \n",
       "0.20         0.20     60.000000   cell-attach  grating         14.991254\n",
       "                                               intensity        0.000000\n",
       "                                  exc          grating        -68.111936\n",
       "                                               intensity       -2.208146\n",
       "             0.30     20.000000   cell-attach  grating          9.995002\n",
       "                                               intensity        7.496252\n",
       "                                  exc          grating        -89.597814\n",
       "                                               intensity      -67.587395\n",
       "                                  inh          grating         -7.758279\n",
       "                                               intensity       -7.975236\n",
       "0.25         0.40     20.000000   cell-attach  grating         37.481259\n",
       "                                               intensity       47.476262\n",
       "                                  exc          grating       -245.056378\n",
       "                                               intensity     -271.306893\n",
       "                                  inh          grating         -4.055391\n",
       "                                               intensity        1.959272\n",
       "0.30         0.50     20.000000   cell-attach  grating         62.468766\n",
       "                                               intensity       72.463768\n",
       "                                  exc          grating       -501.170447\n",
       "                                               intensity     -447.370066\n",
       "                                  inh          grating        -27.089222\n",
       "                                               intensity       -4.022859\n",
       "0.40         0.40     20.000000   cell-attach  grating         64.967516\n",
       "                                               intensity       60.408472\n",
       "                                  exc          grating       -230.315032\n",
       "                                               intensity     -253.729683\n",
       "                      60.000000   cell-attach  grating         79.960020\n",
       "                                               intensity       57.470015\n",
       "                                  exc          grating       -374.069457\n",
       "                                               intensity     -255.130634\n",
       "Name: MeanRespOn, dtype: float64"
      ]
     },
     "execution_count": 9,
     "metadata": {},
     "output_type": "execute_result"
    }
   ],
   "source": [
    "#dataset.rename(columns = {'splitOnRecType':'RecType','currentBarWidth':'BarWidth','currentMeanLevel':'MeanInt','currentAbsContrast':'absContrast'},inplace = True)\n",
    "grouped = dataset.groupby(['absContrast','MeanInt','BarWidth','RecType','stimulusTag'])\n",
    "grouped['MeanRespOn'].aggregate(np.mean)\n"
   ]
  },
  {
   "cell_type": "code",
   "execution_count": 7,
   "metadata": {
    "collapsed": false
   },
   "outputs": [
    {
     "data": {
      "text/html": [
       "<div>\n",
       "<table border=\"1\" class=\"dataframe\">\n",
       "  <thead>\n",
       "    <tr style=\"text-align: right;\">\n",
       "      <th></th>\n",
       "      <th>id</th>\n",
       "      <th>currentBarWidth</th>\n",
       "      <th>splitOnRecType</th>\n",
       "      <th>stimulusTag</th>\n",
       "      <th>currentMeanLevel</th>\n",
       "      <th>currentAbsContrast</th>\n",
       "      <th>splitOnDelTag</th>\n",
       "      <th>backgroundIntensity</th>\n",
       "      <th>MeanRespOn</th>\n",
       "      <th>SEM</th>\n",
       "      <th>nodeid</th>\n",
       "      <th>leafid</th>\n",
       "      <th>cell_id</th>\n",
       "    </tr>\n",
       "  </thead>\n",
       "  <tbody>\n",
       "    <tr>\n",
       "      <th>0</th>\n",
       "      <td>1</td>\n",
       "      <td>100.0</td>\n",
       "      <td>cell-attach</td>\n",
       "      <td>grating</td>\n",
       "      <td>0.2</td>\n",
       "      <td>0.1</td>\n",
       "      <td>keep</td>\n",
       "      <td>0.2</td>\n",
       "      <td>14.992504</td>\n",
       "      <td>0.000000</td>\n",
       "      <td>1</td>\n",
       "      <td>1</td>\n",
       "      <td>2016/10/25Cell2</td>\n",
       "    </tr>\n",
       "    <tr>\n",
       "      <th>1</th>\n",
       "      <td>2</td>\n",
       "      <td>100.0</td>\n",
       "      <td>exc</td>\n",
       "      <td>grating</td>\n",
       "      <td>0.2</td>\n",
       "      <td>0.1</td>\n",
       "      <td>keep</td>\n",
       "      <td>0.2</td>\n",
       "      <td>-22.957036</td>\n",
       "      <td>8.043584</td>\n",
       "      <td>1</td>\n",
       "      <td>2</td>\n",
       "      <td>2016/10/25Cell2</td>\n",
       "    </tr>\n",
       "    <tr>\n",
       "      <th>2</th>\n",
       "      <td>3</td>\n",
       "      <td>100.0</td>\n",
       "      <td>cell-attach</td>\n",
       "      <td>intensity</td>\n",
       "      <td>0.2</td>\n",
       "      <td>0.1</td>\n",
       "      <td>keep</td>\n",
       "      <td>0.2</td>\n",
       "      <td>0.000000</td>\n",
       "      <td>0.000000</td>\n",
       "      <td>1</td>\n",
       "      <td>3</td>\n",
       "      <td>2016/10/25Cell2</td>\n",
       "    </tr>\n",
       "  </tbody>\n",
       "</table>\n",
       "</div>"
      ],
      "text/plain": [
       "   id  currentBarWidth splitOnRecType stimulusTag  currentMeanLevel  \\\n",
       "0   1            100.0    cell-attach     grating               0.2   \n",
       "1   2            100.0            exc     grating               0.2   \n",
       "2   3            100.0    cell-attach   intensity               0.2   \n",
       "\n",
       "   currentAbsContrast splitOnDelTag  backgroundIntensity  MeanRespOn  \\\n",
       "0                 0.1          keep                  0.2   14.992504   \n",
       "1                 0.1          keep                  0.2  -22.957036   \n",
       "2                 0.1          keep                  0.2    0.000000   \n",
       "\n",
       "        SEM  nodeid  leafid          cell_id  \n",
       "0  0.000000       1       1  2016/10/25Cell2  \n",
       "1  8.043584       1       2  2016/10/25Cell2  \n",
       "2  0.000000       1       3  2016/10/25Cell2  "
      ]
     },
     "execution_count": 7,
     "metadata": {},
     "output_type": "execute_result"
    }
   ],
   "source": [
    "dataset.head(3)\n"
   ]
  },
  {
   "cell_type": "code",
   "execution_count": null,
   "metadata": {
    "collapsed": true
   },
   "outputs": [],
   "source": []
  }
 ],
 "metadata": {
  "anaconda-cloud": {},
  "kernelspec": {
   "display_name": "Python [conda root]",
   "language": "python",
   "name": "conda-root-py"
  },
  "language_info": {
   "codemirror_mode": {
    "name": "ipython",
    "version": 2
   },
   "file_extension": ".py",
   "mimetype": "text/x-python",
   "name": "python",
   "nbconvert_exporter": "python",
   "pygments_lexer": "ipython2",
   "version": "2.7.12"
  }
 },
 "nbformat": 4,
 "nbformat_minor": 1
}
