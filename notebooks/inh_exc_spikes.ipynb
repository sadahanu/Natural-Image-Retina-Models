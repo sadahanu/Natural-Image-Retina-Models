{
 "cells": [
  {
   "cell_type": "code",
   "execution_count": 7,
   "metadata": {
    "collapsed": true
   },
   "outputs": [],
   "source": [
    "%matplotlib inline\n",
    "import pandas as pd\n",
    "import os\n",
    "os.chdir('/Users/zhouyu/Google Drive/python4work/')"
   ]
  },
  {
   "cell_type": "code",
   "execution_count": 10,
   "metadata": {
    "collapsed": false
   },
   "outputs": [
    {
     "data": {
      "text/html": [
       "<div>\n",
       "<table border=\"1\" class=\"dataframe\">\n",
       "  <thead>\n",
       "    <tr style=\"text-align: right;\">\n",
       "      <th></th>\n",
       "      <th>id</th>\n",
       "      <th>splitOnRecType</th>\n",
       "      <th>stimulusTag</th>\n",
       "      <th>imageName</th>\n",
       "      <th>imagePatchIndex</th>\n",
       "      <th>equivalentIntensity</th>\n",
       "      <th>backgroundIntensity</th>\n",
       "      <th>MeanRespOn</th>\n",
       "      <th>SEM</th>\n",
       "      <th>Loc_x</th>\n",
       "      <th>Loc_y</th>\n",
       "      <th>cell_id</th>\n",
       "    </tr>\n",
       "  </thead>\n",
       "  <tbody>\n",
       "    <tr>\n",
       "      <th>0</th>\n",
       "      <td>1</td>\n",
       "      <td>exc</td>\n",
       "      <td>image</td>\n",
       "      <td>152</td>\n",
       "      <td>1</td>\n",
       "      <td>0.328417</td>\n",
       "      <td>0.199407</td>\n",
       "      <td>-822.143387</td>\n",
       "      <td>43.759201</td>\n",
       "      <td>1241</td>\n",
       "      <td>648</td>\n",
       "      <td>2016/08/10Cell 1- on parasol</td>\n",
       "    </tr>\n",
       "    <tr>\n",
       "      <th>1</th>\n",
       "      <td>2</td>\n",
       "      <td>exc</td>\n",
       "      <td>intensity</td>\n",
       "      <td>152</td>\n",
       "      <td>1</td>\n",
       "      <td>0.328417</td>\n",
       "      <td>0.199407</td>\n",
       "      <td>-673.196247</td>\n",
       "      <td>106.060358</td>\n",
       "      <td>1241</td>\n",
       "      <td>648</td>\n",
       "      <td>2016/08/10Cell 1- on parasol</td>\n",
       "    </tr>\n",
       "    <tr>\n",
       "      <th>2</th>\n",
       "      <td>3</td>\n",
       "      <td>exc</td>\n",
       "      <td>image</td>\n",
       "      <td>152</td>\n",
       "      <td>2</td>\n",
       "      <td>0.200514</td>\n",
       "      <td>0.199407</td>\n",
       "      <td>-57.449961</td>\n",
       "      <td>20.437119</td>\n",
       "      <td>679</td>\n",
       "      <td>707</td>\n",
       "      <td>2016/08/10Cell 1- on parasol</td>\n",
       "    </tr>\n",
       "  </tbody>\n",
       "</table>\n",
       "</div>"
      ],
      "text/plain": [
       "   id splitOnRecType stimulusTag  imageName  imagePatchIndex  \\\n",
       "0   1            exc       image        152                1   \n",
       "1   2            exc   intensity        152                1   \n",
       "2   3            exc       image        152                2   \n",
       "\n",
       "   equivalentIntensity  backgroundIntensity  MeanRespOn         SEM  Loc_x  \\\n",
       "0             0.328417             0.199407 -822.143387   43.759201   1241   \n",
       "1             0.328417             0.199407 -673.196247  106.060358   1241   \n",
       "2             0.200514             0.199407  -57.449961   20.437119    679   \n",
       "\n",
       "   Loc_y                       cell_id  \n",
       "0    648  2016/08/10Cell 1- on parasol  \n",
       "1    648  2016/08/10Cell 1- on parasol  \n",
       "2    707  2016/08/10Cell 1- on parasol  "
      ]
     },
     "execution_count": 10,
     "metadata": {},
     "output_type": "execute_result"
    }
   ],
   "source": [
    "dataset = pd.read_csv(\"exc_inh_spikes19-Dec-2016.csv\")\n",
    "dataset['Loc_x'] = dataset.apply(lambda row:int(row['splitOnPatchLocation'].split('  ')[0]),axis = 1)\n",
    "dataset['Loc_y'] = dataset.apply(lambda row:int(row['splitOnPatchLocation'].split('  ')[1]),axis = 1)\n",
    "dataset['cell_id'] = dataset['splitOnExperimentDate']+dataset['celllabel']\n",
    "dataset = dataset.drop(['splitOnPatchLocation','splitOnDelTag','nodeid','leafid','splitOnExperimentDate','celllabel'],axis = 1)\n",
    "dataset = dataset.drop(['currentPatchLocation_1','currentPatchLocation_2'],axis = 1)\n",
    "dataset.head(3)"
   ]
  },
  {
   "cell_type": "code",
   "execution_count": 11,
   "metadata": {
    "collapsed": false
   },
   "outputs": [
    {
     "data": {
      "text/plain": [
       "(1728, 11)"
      ]
     },
     "execution_count": 11,
     "metadata": {},
     "output_type": "execute_result"
    }
   ],
   "source": [
    "import numpy as np\n",
    "dataset = dataset[dataset['imageName']==152]\n",
    "dataset = dataset[dataset['splitOnRecType']!='cell-attach']\n",
    "dataset = dataset.drop(['id'],axis = 1)\n",
    "dataset.shape"
   ]
  },
  {
   "cell_type": "code",
   "execution_count": 12,
   "metadata": {
    "collapsed": false
   },
   "outputs": [
    {
     "data": {
      "text/html": [
       "<div>\n",
       "<table border=\"1\" class=\"dataframe\">\n",
       "  <thead>\n",
       "    <tr style=\"text-align: right;\">\n",
       "      <th></th>\n",
       "      <th>splitOnRecType_x</th>\n",
       "      <th>stimulusTag</th>\n",
       "      <th>imageName</th>\n",
       "      <th>imagePatchIndex_x</th>\n",
       "      <th>equivalentIntensity</th>\n",
       "      <th>backgroundIntensity</th>\n",
       "      <th>MeanRespOn_x</th>\n",
       "      <th>SEM_x</th>\n",
       "      <th>Loc_x</th>\n",
       "      <th>Loc_y</th>\n",
       "      <th>cell_id</th>\n",
       "      <th>splitOnRecType_y</th>\n",
       "      <th>imagePatchIndex_y</th>\n",
       "      <th>MeanRespOn_y</th>\n",
       "      <th>SEM_y</th>\n",
       "      <th>IE_ratio</th>\n",
       "    </tr>\n",
       "  </thead>\n",
       "  <tbody>\n",
       "    <tr>\n",
       "      <th>0</th>\n",
       "      <td>exc</td>\n",
       "      <td>image</td>\n",
       "      <td>152</td>\n",
       "      <td>1</td>\n",
       "      <td>0.326865</td>\n",
       "      <td>0.199407</td>\n",
       "      <td>-568.351463</td>\n",
       "      <td>40.194951</td>\n",
       "      <td>1241</td>\n",
       "      <td>648</td>\n",
       "      <td>2016/08/10Cell 2 - on parasol</td>\n",
       "      <td>inh</td>\n",
       "      <td>1</td>\n",
       "      <td>662.307364</td>\n",
       "      <td>134.002112</td>\n",
       "      <td>1.165313</td>\n",
       "    </tr>\n",
       "    <tr>\n",
       "      <th>1</th>\n",
       "      <td>exc</td>\n",
       "      <td>intensity</td>\n",
       "      <td>152</td>\n",
       "      <td>1</td>\n",
       "      <td>0.326865</td>\n",
       "      <td>0.199407</td>\n",
       "      <td>-560.141950</td>\n",
       "      <td>41.428937</td>\n",
       "      <td>1241</td>\n",
       "      <td>648</td>\n",
       "      <td>2016/08/10Cell 2 - on parasol</td>\n",
       "      <td>inh</td>\n",
       "      <td>1</td>\n",
       "      <td>613.873961</td>\n",
       "      <td>191.138438</td>\n",
       "      <td>1.095926</td>\n",
       "    </tr>\n",
       "    <tr>\n",
       "      <th>2</th>\n",
       "      <td>exc</td>\n",
       "      <td>image</td>\n",
       "      <td>152</td>\n",
       "      <td>2</td>\n",
       "      <td>0.201769</td>\n",
       "      <td>0.199407</td>\n",
       "      <td>-52.767562</td>\n",
       "      <td>17.030589</td>\n",
       "      <td>679</td>\n",
       "      <td>707</td>\n",
       "      <td>2016/08/10Cell 2 - on parasol</td>\n",
       "      <td>inh</td>\n",
       "      <td>2</td>\n",
       "      <td>1864.584197</td>\n",
       "      <td>395.481852</td>\n",
       "      <td>35.335803</td>\n",
       "    </tr>\n",
       "  </tbody>\n",
       "</table>\n",
       "</div>"
      ],
      "text/plain": [
       "  splitOnRecType_x stimulusTag  imageName  imagePatchIndex_x  \\\n",
       "0              exc       image        152                  1   \n",
       "1              exc   intensity        152                  1   \n",
       "2              exc       image        152                  2   \n",
       "\n",
       "   equivalentIntensity  backgroundIntensity  MeanRespOn_x      SEM_x  Loc_x  \\\n",
       "0             0.326865             0.199407   -568.351463  40.194951   1241   \n",
       "1             0.326865             0.199407   -560.141950  41.428937   1241   \n",
       "2             0.201769             0.199407    -52.767562  17.030589    679   \n",
       "\n",
       "   Loc_y                        cell_id splitOnRecType_y  imagePatchIndex_y  \\\n",
       "0    648  2016/08/10Cell 2 - on parasol              inh                  1   \n",
       "1    648  2016/08/10Cell 2 - on parasol              inh                  1   \n",
       "2    707  2016/08/10Cell 2 - on parasol              inh                  2   \n",
       "\n",
       "   MeanRespOn_y       SEM_y   IE_ratio  \n",
       "0    662.307364  134.002112   1.165313  \n",
       "1    613.873961  191.138438   1.095926  \n",
       "2   1864.584197  395.481852  35.335803  "
      ]
     },
     "execution_count": 12,
     "metadata": {},
     "output_type": "execute_result"
    }
   ],
   "source": [
    "exc = dataset[dataset['splitOnRecType']=='exc']\n",
    "inh = dataset[dataset['splitOnRecType']=='inh']\n",
    "ei_table = pd.merge(exc,inh,how = 'inner',on = ['cell_id','imageName','Loc_x','Loc_y','stimulusTag','equivalentIntensity','backgroundIntensity'])\n",
    "ei_table['IE_ratio'] = ei_table.apply(lambda row:(-row['MeanRespOn_y']/row['MeanRespOn_x']),axis = 1)\n",
    "ei_table.head(3)"
   ]
  },
  {
   "cell_type": "code",
   "execution_count": 13,
   "metadata": {
    "collapsed": true
   },
   "outputs": [],
   "source": [
    "ei_table.drop(['splitOnRecType_x','splitOnRecType_y'],axis = 1)\n",
    "ei_table.rename(columns = {'MeanRespOn_x':'Exc_Resp','SEM_x':'Exc_SEM','MeanRespOn_y':'Inh_Resp','SEM_y':'Inh_SEM'}, inplace = True)\n",
    "ei_table.to_csv('IE_ratio1219.csv')"
   ]
  },
  {
   "cell_type": "code",
   "execution_count": 18,
   "metadata": {
    "collapsed": false
   },
   "outputs": [],
   "source": [
    "contrast=pd.read_csv(\"exc_inh_contrast19-Dec-2016.csv\")\n",
    "contrast['cell_id'] = contrast['splitOnExperimentDate']+contrast['celllabel']\n",
    "contrast = contrast.drop(['splitOnExperimentDate','celllabel','id','backgroundIntensity','nodeid','leafid','splitOnDelTag'],axis = 1)\n",
    "exc = contrast[contrast['splitOnRecType']=='exc']\n",
    "inh = contrast[contrast['splitOnRecType']=='inh']\n",
    "contrast_table = pd.merge(exc,inh,how = 'inner',on = ['cell_id','currentSpotContrast',])"
   ]
  },
  {
   "cell_type": "code",
   "execution_count": 22,
   "metadata": {
    "collapsed": false
   },
   "outputs": [
    {
     "data": {
      "text/html": [
       "<div>\n",
       "<table border=\"1\" class=\"dataframe\">\n",
       "  <thead>\n",
       "    <tr style=\"text-align: right;\">\n",
       "      <th></th>\n",
       "      <th>splitOnRecType_x</th>\n",
       "      <th>currentSpotContrast</th>\n",
       "      <th>MeanExc</th>\n",
       "      <th>SEM_Exc</th>\n",
       "      <th>cell_id</th>\n",
       "      <th>splitOnRecType_y</th>\n",
       "      <th>MeanInh</th>\n",
       "      <th>SEM_Inh</th>\n",
       "    </tr>\n",
       "  </thead>\n",
       "  <tbody>\n",
       "    <tr>\n",
       "      <th>0</th>\n",
       "      <td>exc</td>\n",
       "      <td>-0.90</td>\n",
       "      <td>37.568833</td>\n",
       "      <td>6.892708</td>\n",
       "      <td>2016/09/13On parasol1</td>\n",
       "      <td>inh</td>\n",
       "      <td>1351.621646</td>\n",
       "      <td>86.832268</td>\n",
       "    </tr>\n",
       "    <tr>\n",
       "      <th>1</th>\n",
       "      <td>exc</td>\n",
       "      <td>-0.75</td>\n",
       "      <td>35.964670</td>\n",
       "      <td>4.584801</td>\n",
       "      <td>2016/09/13On parasol1</td>\n",
       "      <td>inh</td>\n",
       "      <td>1256.355670</td>\n",
       "      <td>88.001208</td>\n",
       "    </tr>\n",
       "    <tr>\n",
       "      <th>2</th>\n",
       "      <td>exc</td>\n",
       "      <td>-0.50</td>\n",
       "      <td>44.267558</td>\n",
       "      <td>4.891360</td>\n",
       "      <td>2016/09/13On parasol1</td>\n",
       "      <td>inh</td>\n",
       "      <td>1027.190100</td>\n",
       "      <td>64.992141</td>\n",
       "    </tr>\n",
       "  </tbody>\n",
       "</table>\n",
       "</div>"
      ],
      "text/plain": [
       "  splitOnRecType_x  currentSpotContrast    MeanExc   SEM_Exc  \\\n",
       "0              exc                -0.90  37.568833  6.892708   \n",
       "1              exc                -0.75  35.964670  4.584801   \n",
       "2              exc                -0.50  44.267558  4.891360   \n",
       "\n",
       "                 cell_id splitOnRecType_y      MeanInh    SEM_Inh  \n",
       "0  2016/09/13On parasol1              inh  1351.621646  86.832268  \n",
       "1  2016/09/13On parasol1              inh  1256.355670  88.001208  \n",
       "2  2016/09/13On parasol1              inh  1027.190100  64.992141  "
      ]
     },
     "execution_count": 22,
     "metadata": {},
     "output_type": "execute_result"
    }
   ],
   "source": [
    "contrast_table.head(3)"
   ]
  },
  {
   "cell_type": "code",
   "execution_count": 20,
   "metadata": {
    "collapsed": true
   },
   "outputs": [],
   "source": [
    "contrast_table.rename(columns = {'MeanRespOn_x':'MeanExc','SEM_x':'SEM_Exc','MeanRespOn_y':'MeanInh','SEM_y':'SEM_Inh'},inplace = True)"
   ]
  },
  {
   "cell_type": "code",
   "execution_count": 24,
   "metadata": {
    "collapsed": false
   },
   "outputs": [],
   "source": [
    "contrast_table.to_csv(\"contrast_inh_exc.csv\")"
   ]
  },
  {
   "cell_type": "code",
   "execution_count": null,
   "metadata": {
    "collapsed": true
   },
   "outputs": [],
   "source": []
  }
 ],
 "metadata": {
  "anaconda-cloud": {},
  "kernelspec": {
   "display_name": "Python [conda root]",
   "language": "python",
   "name": "conda-root-py"
  },
  "language_info": {
   "codemirror_mode": {
    "name": "ipython",
    "version": 2
   },
   "file_extension": ".py",
   "mimetype": "text/x-python",
   "name": "python",
   "nbconvert_exporter": "python",
   "pygments_lexer": "ipython2",
   "version": "2.7.12"
  }
 },
 "nbformat": 4,
 "nbformat_minor": 1
}
