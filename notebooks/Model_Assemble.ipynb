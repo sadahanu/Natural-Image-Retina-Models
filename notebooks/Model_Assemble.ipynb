{
 "cells": [
  {
   "cell_type": "code",
   "execution_count": 1,
   "metadata": {
    "collapsed": true
   },
   "outputs": [],
   "source": [
    "import pandas as pd\n",
    "import os\n",
    "import matplotlib.pyplot as plt\n",
    "import numpy as np\n",
    "from RGC_Models import *\n",
    "%matplotlib inline\n",
    "plt.rcParams['figure.figsize'] = (20.0, 5.0) # set default size of plots\n",
    "plt.rcParams['image.interpolation'] = 'nearest'\n",
    "os.chdir = ('/Users/zhouyu/Google Drive/python4work/')\n",
    "%load_ext autoreload\n",
    "%autoreload 2"
   ]
  },
  {
   "cell_type": "markdown",
   "metadata": {},
   "source": [
    "### Load data, assemble models"
   ]
  },
  {
   "cell_type": "code",
   "execution_count": 5,
   "metadata": {
    "collapsed": false
   },
   "outputs": [],
   "source": [
    "data = {}\n",
    "data['all_gratings'] = pd.read_csv(\"Data/Gratings06-Apr-2017.csv\")\n",
    "data['all_textures'] = pd.read_csv(\"Data/Textures06-Apr-2017.csv\")\n",
    "data['all_contrast'] = pd.read_csv(\"Data/contrastCurve06-Apr-2017.csv\")\n",
    "data['all_imgPatches'] = pd.read_csv(\"Data/imgPatches06-Apr-2017.csv\")"
   ]
  },
  {
   "cell_type": "code",
   "execution_count": null,
   "metadata": {
    "collapsed": true
   },
   "outputs": [],
   "source": [
    "cells = {}\n",
    "for key,df in data.iteritems():\n",
    "    df['cell_id']= df['splitOnExperimentDate']+df['celllabel']\n",
    "    df['MeanRespOn']=df.apply(lambda row:-row['MeanRespOn'] \n",
    "                                     if row['splitOnRecType']=='exc' else row['MeanRespOn'],axis = 1)\n",
    "    df.rename(columsn = {'splitOnRecType':'RecType'},inplace = True)\n",
    "    df_cells = df.cell_id.unique()\n",
    "    for c in df_cells:\n",
    "        "
   ]
  }
 ],
 "metadata": {
  "anaconda-cloud": {},
  "kernelspec": {
   "display_name": "Python [conda root]",
   "language": "python",
   "name": "conda-root-py"
  },
  "language_info": {
   "codemirror_mode": {
    "name": "ipython",
    "version": 2
   },
   "file_extension": ".py",
   "mimetype": "text/x-python",
   "name": "python",
   "nbconvert_exporter": "python",
   "pygments_lexer": "ipython2",
   "version": "2.7.13"
  }
 },
 "nbformat": 4,
 "nbformat_minor": 2
}
